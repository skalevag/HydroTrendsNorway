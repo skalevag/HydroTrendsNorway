{
 "cells": [
  {
   "cell_type": "markdown",
   "metadata": {},
   "source": [
    "# Setup"
   ]
  },
  {
   "cell_type": "markdown",
   "metadata": {},
   "source": [
    "## Modules"
   ]
  },
  {
   "cell_type": "code",
   "execution_count": 1,
   "metadata": {},
   "outputs": [],
   "source": [
    "import numpy as np\n",
    "import pandas as pd\n",
    "import matplotlib.pyplot as plt\n",
    "from matplotlib.lines import Line2D\n",
    "from trendmaster import trend\n",
    "import itertools\n",
    "from scipy.stats import linregress\n",
    "import datetime\n",
    "import pickle\n",
    "import descartes\n",
    "import geopandas as gpd\n",
    "from shapely.geometry import Point,Polygon"
   ]
  },
  {
   "cell_type": "markdown",
   "metadata": {},
   "source": [
    "## Other"
   ]
  },
  {
   "cell_type": "code",
   "execution_count": 2,
   "metadata": {},
   "outputs": [],
   "source": [
    "def saveDict(dictionary,filename):\n",
    "    \"\"\"\n",
    "    Saves dictionary to pickle file in working directory.\n",
    "    \n",
    "    Parameters\n",
    "    ----------\n",
    "    dictionary: dict\n",
    "    filename: str\n",
    "        filename without .pkl ending\n",
    "    \n",
    "    Returns\n",
    "    -------\n",
    "    Nothing\n",
    "    \"\"\"\n",
    "    f = open(f\"{filename}.pkl\",\"wb\")\n",
    "    pickle.dump(dictionary,f)\n",
    "    f.close()\n",
    "\n",
    "def openDict(filename):\n",
    "    \"\"\"\n",
    "    Opens dictionary from pickle file in working directory.\n",
    "    \n",
    "    Parameters\n",
    "    ----------\n",
    "    filename: str\n",
    "        filename without .pkl ending\n",
    "    \n",
    "    Returns\n",
    "    -------\n",
    "    dictionary\n",
    "    \"\"\"\n",
    "    pickle_in = open(f\"{filename}.pkl\",\"rb\")\n",
    "    loadedDict = pickle.load(pickle_in)\n",
    "    return loadedDict"
   ]
  },
  {
   "cell_type": "markdown",
   "metadata": {},
   "source": [
    "# Metadata table"
   ]
  },
  {
   "cell_type": "code",
   "execution_count": 3,
   "metadata": {},
   "outputs": [],
   "source": [
    "# load table of metadata, i.e. final station selection of Vormoor et al.\n",
    "catchm = pd.read_csv(\"final_station_selection.txt\",header=0,sep=\"\\t\")\n",
    "df = pd.DataFrame(catchm)\n",
    "\n",
    "# adding information from NEVINA\n",
    "df.loc[df.snumber==200607,\"areal\"] = 126.41 #must be removed\n",
    "df.loc[df.snumber==200607,\"altitude\"] = 933 #must be removed\n",
    "df.loc[df.snumber==8400020,\"areal\"] = 5.14\n",
    "df.loc[df.snumber==8400020,\"altitude\"] = 673\n",
    "df.loc[df.snumber==2400008,\"areal\"] = 121\n",
    "df.loc[df.snumber==2400008,\"altitude\"] = 325 #Hmin change to H50!"
   ]
  },
  {
   "cell_type": "code",
   "execution_count": 4,
   "metadata": {},
   "outputs": [],
   "source": [
    "feltparam = pd.read_csv(\"feltparam.txt\",header=0,sep=\"\\t\", usecols=[0,2,7,12,17,20,21,24,25,26,27,28])"
   ]
  },
  {
   "cell_type": "code",
   "execution_count": 5,
   "metadata": {
    "scrolled": false
   },
   "outputs": [],
   "source": [
    "df[\"BREPRO\"] = np.nan\n",
    "for c in df.snumber:\n",
    "    cpad = int(str(c)+\"000\")\n",
    "    val = float(feltparam.loc[feltparam.SNUMBER==cpad,\"BREPRO\"].mean())\n",
    "    df.loc[df.snumber==c,\"BREPRO\"] = val"
   ]
  },
  {
   "cell_type": "code",
   "execution_count": 6,
   "metadata": {},
   "outputs": [
    {
     "name": "stdout",
     "output_type": "stream",
     "text": [
      "Regions ['ostlandet' 'sorlandet' 'vestlandet' 'trondelag' 'nordland' 'finnmark']\n",
      "Highest station: 1546.0\n",
      "Lowest station: 25.0\n",
      "Missing years: [0 1 3 4 2 6 5]\n",
      "Shortest timeseries from 1982\n",
      "Longest timeseries from 1960\n"
     ]
    }
   ],
   "source": [
    "# some stats\n",
    "runoffRegion = df[\"runoff.region\"].unique()\n",
    "print(\"Regions\",runoffRegion)\n",
    "regionNames = [\"Østlandet\",\"Sørlandet\",\"Vestlandet\",\"Trøndelag\",\"Nordland\",\"Finnmark\"]\n",
    "print(\"Highest station:\",df[\"altitude\"].max())\n",
    "print(\"Lowest station:\",df[\"altitude\"].min())\n",
    "print(\"Missing years:\",df[\"missing.yr\"].unique())\n",
    "print(\"Shortest timeseries from\",df[\"start.yr\"].max())\n",
    "print(\"Longest timeseries from\",df[\"start.yr\"].min())"
   ]
  },
  {
   "cell_type": "code",
   "execution_count": 7,
   "metadata": {},
   "outputs": [
    {
     "data": {
      "text/plain": [
       "Text(0,0.5,'Altitude')"
      ]
     },
     "execution_count": 7,
     "metadata": {},
     "output_type": "execute_result"
    },
    {
     "data": {
      "image/png": "[encoded data removed]",
      "text/plain": [
       "<Figure size 432x288 with 1 Axes>"
      ]
     },
     "metadata": {},
     "output_type": "display_data"
    }
   ],
   "source": [
    "df[\"altitude\"].plot.hist()\n",
    "plt.close()\n",
    "\n",
    "plt.figure()\n",
    "df[\"missing.yr\"].plot.hist()\n",
    "plt.close()\n",
    "\n",
    "plt.figure()\n",
    "plt.plot(df[\"lon\"],df[\"lat\"],\"x\")\n",
    "plt.close()\n",
    "\n",
    "plt.figure()\n",
    "plt.plot(df[\"areal\"],df[\"altitude\"], \"x\")\n",
    "plt.xlabel(\"Area\")\n",
    "plt.ylabel(\"Altitude\")\n",
    "#plt.close()"
   ]
  },
  {
   "cell_type": "markdown",
   "metadata": {},
   "source": [
    "## Splitting by region\n",
    "Splitting by region and sorting\n"
   ]
  },
  {
   "cell_type": "code",
   "execution_count": 8,
   "metadata": {},
   "outputs": [],
   "source": [
    "def byRegion(data,region):\n",
    "    # select region from df\n",
    "    regionData = data[data[\"runoff.region\"]==region]\n",
    "    # sort by altitude, high to low\n",
    "    regionData = regionData.sort_values(\"altitude\",ascending=False)\n",
    "    # add station number according to altitude (for plotting later)\n",
    "    regionData[\"station.order\"]=np.arange(regionData.shape[0],0,-1)\n",
    "    return regionData"
   ]
  },
  {
   "cell_type": "code",
   "execution_count": 9,
   "metadata": {},
   "outputs": [],
   "source": [
    "ostlandet = byRegion(df,\"ostlandet\")\n",
    "vestlandet = byRegion(df,\"vestlandet\")\n",
    "sorlandet = byRegion(df,\"sorlandet\")\n",
    "trondelag = byRegion(df,\"trondelag\")\n",
    "nordland = byRegion(df,\"nordland\")\n",
    "finnmark = byRegion(df,\"finnmark\")\n",
    "\n",
    "regionDF = [ostlandet,sorlandet,vestlandet,trondelag,nordland,finnmark]\n",
    "regions = dict(zip(runoffRegion,regionDF))\n",
    "regionLabels = dict(zip(runoffRegion,regionNames))"
   ]
  },
  {
   "cell_type": "markdown",
   "metadata": {},
   "source": [
    "# Importing data"
   ]
  },
  {
   "cell_type": "markdown",
   "metadata": {},
   "source": [
    "## Organising data"
   ]
  },
  {
   "cell_type": "code",
   "execution_count": 10,
   "metadata": {},
   "outputs": [],
   "source": [
    "def readRunoff(catchmentNo):\n",
    "    # reading data\n",
    "    runoff = pd.read_csv(f\"runoff/{catchmentNo}.txt\",\n",
    "                         header=None, sep=\" \", names=[\"date\",\"runoff\"],usecols=[0,1],index_col=0)\n",
    "    # converting indices to datetime objects\n",
    "    runoff.index = pd.to_datetime(runoff.index)\n",
    "    # replacing invalid values with nan\n",
    "    runoff = runoff.replace(-9999.,np.nan)\n",
    "    return runoff"
   ]
  },
  {
   "cell_type": "code",
   "execution_count": 11,
   "metadata": {},
   "outputs": [],
   "source": [
    "def readSnow(regine,main):\n",
    "    # create filepath\n",
    "    file = f\"seNorge/{regine}.{main}/{regine}.{main}_SeNorge_qsw_1959_2014.dta\"\n",
    "    # read file\n",
    "    snow = pd.read_table(file,delim_whitespace=True,header=None,names=[\"year\",\"month\",\"day\",\"qsw\"])\n",
    "    # list of dates\n",
    "    index = list(np.arange(len(snow)))\n",
    "    for i in range(len(snow)):\n",
    "        index[i] = f\"{snow.year.iloc[i]}-{snow.month.iloc[i]}-{snow.day.iloc[i]}\"\n",
    "    # index as timestamp objects\n",
    "    snow.index = pd.to_datetime(index)\n",
    "    # removing unnecessary columns\n",
    "    snow = snow.drop([\"year\",\"month\",\"day\"],axis = 1)\n",
    "    return snow"
   ]
  },
  {
   "cell_type": "code",
   "execution_count": 12,
   "metadata": {},
   "outputs": [],
   "source": [
    "def readSeNorge(regine,main):\n",
    "    # create filepath\n",
    "    file = f\"seNorge/{regine}.{main}/{regine}.{main}_SeNorge_rr_tm_1959_2014.dta\"\n",
    "    # read file\n",
    "    data = pd.read_table(file,delim_whitespace=True,header=None,names=[\"year\",\"month\",\"day\",\"precip\",\"temp\"])\n",
    "    # list of dates\n",
    "    index = list(np.arange(len(data)))\n",
    "    for i in range(len(data)):\n",
    "        index[i] = f\"{data.year[i]}-{data.month[i]}-{data.day[i]}\"\n",
    "    # index as timestamp objects\n",
    "    data.index = pd.to_datetime(index)\n",
    "    # removing unnecessary columns\n",
    "    data = data.drop([\"year\",\"month\",\"day\"],axis = 1)\n",
    "    return data"
   ]
  },
  {
   "cell_type": "code",
   "execution_count": 13,
   "metadata": {},
   "outputs": [],
   "source": [
    "def organiseData(region):\n",
    "    \"\"\"\n",
    "    Organises all data for a region into a dictionary.\n",
    "    \n",
    "    Parameters\n",
    "    -----------\n",
    "    region: pandas.DataFrame\n",
    "    \n",
    "    Returns\n",
    "    -----------\n",
    "    dictionary with all variables\n",
    "    \"\"\"\n",
    "    # create dictionary and adds station order by elevation\n",
    "    d = {\"order\":list(region.snumber),\n",
    "         \"data\":{},\n",
    "         \"metadata\":region}\n",
    "    # add all catchments as keys\n",
    "    for i in range(region.shape[0]):\n",
    "        d[\"data\"][region.snumber.iloc[i]] = {}\n",
    "    \n",
    "    for c in d[\"order\"]:\n",
    "        # runoff data for each cathcment\n",
    "        d[\"data\"][c][\"runoff\"] = readRunoff(c)\n",
    "        # snowmelt    \n",
    "        regine = int(region[region.snumber == c].regine)\n",
    "        main = int(region[region.snumber == c].main)\n",
    "        d[\"data\"][c][\"snow\"] = readSnow(regine,main)\n",
    "        # precipitation and temperature\n",
    "        pt = readSeNorge(regine,main)\n",
    "        d[\"data\"][c][\"temp\"] = pt.temp\n",
    "        d[\"data\"][c][\"precip\"] = pt.precip\n",
    "        \n",
    "    # return the finished dictionary\n",
    "    return d"
   ]
  },
  {
   "cell_type": "code",
   "execution_count": 14,
   "metadata": {},
   "outputs": [],
   "source": [
    "# set this to True if importing and organising data again\n",
    "importing = False\n",
    "\n",
    "\n",
    "if importing:\n",
    "    # imports and organises data into dictionaries\n",
    "    ost = organiseData(ostlandet)\n",
    "    sor = organiseData(sorlandet)\n",
    "    nord = organiseData(nordland)\n",
    "    vest = organiseData(vestlandet)\n",
    "    trond = organiseData(trondelag)\n",
    "    finn = organiseData(finnmark)\n",
    "else:\n",
    "    # opening dictionaries with organised data from file\n",
    "    sor = openDict(\"sorlandet_final\")\n",
    "    ost = openDict(\"ostlandet_final\")\n",
    "    vest = openDict(\"vestlandet_final\")\n",
    "    trond = openDict(\"trondelag_final\")\n",
    "    nord = openDict(\"nordland_final\")\n",
    "    finn = openDict(\"finnmark_final\")"
   ]
  },
  {
   "cell_type": "markdown",
   "metadata": {},
   "source": [
    "# Visualising data quality"
   ]
  },
  {
   "cell_type": "markdown",
   "metadata": {},
   "source": [
    "## Runoff quality"
   ]
  },
  {
   "cell_type": "code",
   "execution_count": 15,
   "metadata": {
    "scrolled": true
   },
   "outputs": [
    {
     "name": "stdout",
     "output_type": "stream",
     "text": [
      "Earliest start year: 1871\n",
      "Latest start year: 1982\n",
      "Latest end year 2014\n",
      "Earliest end year 2012\n"
     ]
    }
   ],
   "source": [
    "start = []\n",
    "end = []\n",
    "for station in ost[\"order\"]:\n",
    "    #print(\"Station:\",station)\n",
    "    #print(\"First year:\\t\",ost['data'][station]['runoff'].index.year[0])\n",
    "    start.append(ost['data'][station]['runoff'].index.year[0])\n",
    "    #print(\"Last year:\\t\",ost['data'][station]['runoff'].index.year[-1],\"\\n\")\n",
    "    end.append(ost['data'][station]['runoff'].index.year[-1])\n",
    "\n",
    "for station in sor[\"order\"]:\n",
    "    start.append(sor['data'][station]['runoff'].index.year[0])\n",
    "    end.append(sor['data'][station]['runoff'].index.year[-1])\n",
    "    \n",
    "for station in vest[\"order\"]:\n",
    "    start.append(vest['data'][station]['runoff'].index.year[0])\n",
    "    end.append(vest['data'][station]['runoff'].index.year[-1])\n",
    "    \n",
    "for station in nord[\"order\"]:\n",
    "    start.append(nord['data'][station]['runoff'].index.year[0])\n",
    "    end.append(nord['data'][station]['runoff'].index.year[-1])\n",
    "\n",
    "for station in trond[\"order\"]:\n",
    "    start.append(trond['data'][station]['runoff'].index.year[0])\n",
    "    end.append(trond['data'][station]['runoff'].index.year[-1])\n",
    "\n",
    "for station in finn[\"order\"]:\n",
    "    start.append(finn['data'][station]['runoff'].index.year[0])\n",
    "    end.append(finn['data'][station]['runoff'].index.year[-1])\n",
    "\n",
    "print(\"Earliest start year:\",np.array(start).min())\n",
    "print(\"Latest start year:\",np.array(start).max())\n",
    "print(\"Latest end year\",np.array(end).max())\n",
    "print(\"Earliest end year\",np.array(end).min())"
   ]
  },
  {
   "cell_type": "markdown",
   "metadata": {},
   "source": [
    "### Missing days"
   ]
  },
  {
   "cell_type": "code",
   "execution_count": 16,
   "metadata": {},
   "outputs": [],
   "source": [
    "def missingDays(df):\n",
    "    a = np.full(144,np.nan)\n",
    "    years = pd.unique(df.index.year)\n",
    "    for year in years:\n",
    "        part = df[str(year)]\n",
    "        a[year-1871] = part.isnull().sum()[0]\n",
    "    return a"
   ]
  },
  {
   "cell_type": "code",
   "execution_count": 17,
   "metadata": {},
   "outputs": [],
   "source": [
    "def missingDaysRegion(data):\n",
    "    \"\"\"\n",
    "    Makes an array of missing days per year per region\n",
    "    Paramters\n",
    "    ---------\n",
    "    data: dictionary\n",
    "        a dictionary which contains data for a runoff region, especially: \n",
    "            data[\"order\"]: the station order \n",
    "            data[\"data\"][stationnumber][\"runoff\"]: runoff for specific station\n",
    "            \n",
    "    Returns\n",
    "    -------\n",
    "    array of days with missing runoff per year\n",
    "    \"\"\"\n",
    "    a = np.full((len(data[\"order\"]),144),np.nan)\n",
    "    for i in range(len(data[\"order\"])):\n",
    "        a[i] = missingDays(data[\"data\"][data[\"order\"][i]][\"runoff\"])\n",
    "    \n",
    "    return a"
   ]
  },
  {
   "cell_type": "markdown",
   "metadata": {},
   "source": [
    "### Missing years"
   ]
  },
  {
   "cell_type": "code",
   "execution_count": 18,
   "metadata": {},
   "outputs": [],
   "source": [
    "def missingYears(df):\n",
    "    \"\"\"\n",
    "    Finds gaps of 5 or more values in each year of timeseries. \n",
    "    \n",
    "    Returns\n",
    "    -------\n",
    "    array of years with 3 possible values:\n",
    "        NaN: no data availiable for year\n",
    "        0: no data gaps in year\n",
    "        1: one or more gaps of 5 or more missing values found\n",
    "    \"\"\"\n",
    "    a = np.full(144,np.nan)\n",
    "    years = pd.unique(df.index.year)\n",
    "    for year in years:\n",
    "        runoff = df[str(year)].runoff\n",
    "        n = runoff.isnull().astype(int).groupby(runoff.notnull().astype(int).cumsum()).sum()\n",
    "        m = n>0 \n",
    "        if m.any():\n",
    "            a[year-1871] = 1\n",
    "        else:\n",
    "            a[year-1871] = 0\n",
    "    return a"
   ]
  },
  {
   "cell_type": "code",
   "execution_count": 19,
   "metadata": {},
   "outputs": [],
   "source": [
    "def missingYearsRegion(data):\n",
    "    \"\"\"\n",
    "    Makes an array of missing days per year per region\n",
    "    Paramters\n",
    "    ---------\n",
    "    data: dictionary\n",
    "        a dictionary which contains data for a runoff region, especially: \n",
    "            data[\"order\"]: the station order \n",
    "            data[\"data\"][stationnumber][\"runoff\"]: runoff for specific station\n",
    "            \n",
    "    Returns\n",
    "    -------\n",
    "    array of days with missing runoff per year\n",
    "    \"\"\"\n",
    "    a = np.full((len(data[\"order\"]),144),np.nan)\n",
    "    for i in range(len(data[\"order\"])):\n",
    "        a[i] = missingYears(data[\"data\"][data[\"order\"][i]][\"runoff\"])\n",
    "    \n",
    "    return a"
   ]
  },
  {
   "cell_type": "markdown",
   "metadata": {},
   "source": [
    "### Summary\n",
    "\n",
    "Data is availiable for all catchments from 1982-2012\n",
    "\n"
   ]
  },
  {
   "cell_type": "markdown",
   "metadata": {},
   "source": [
    "## seNorge"
   ]
  },
  {
   "cell_type": "markdown",
   "metadata": {},
   "source": [
    "Appears that files contain *rainfall* and not *precipitation* data"
   ]
  },
  {
   "cell_type": "code",
   "execution_count": 20,
   "metadata": {},
   "outputs": [],
   "source": [
    "def findMissingSeNorge(data):\n",
    "    \"\"\"\n",
    "    Finds the catchment with missing/problematic seNorge data\n",
    "    \"\"\"\n",
    "    missing = []\n",
    "    for c in data[\"order\"]:\n",
    "        if all(data[\"data\"][c][\"precip\"]==0):\n",
    "            missing.append(c)\n",
    "    return missing"
   ]
  },
  {
   "cell_type": "code",
   "execution_count": 21,
   "metadata": {},
   "outputs": [],
   "source": [
    "def findMissingDays(data,startYear=1983,endYear=2012):\n",
    "    \"\"\"\n",
    "    Identifies catchments which have more than 10% missing data for the chosen period.\n",
    "    \n",
    "    Parameters\n",
    "    ----------\n",
    "    data: dictionary with organised data for a runoff region\n",
    "    startYear: beginning of time period\n",
    "    endYear: end of time period\n",
    "    \n",
    "    Returns\n",
    "    -------\n",
    "    List of catchment numbers\n",
    "    \"\"\"\n",
    "    start = startYear-1871\n",
    "    end = endYear-1871\n",
    "    period = endYear - startYear\n",
    "    \n",
    "    arr = missingDaysRegion(data)[:,start:end]\n",
    "    \n",
    "    \n",
    "    # an nan signifies that no data is availiable for that year\n",
    "    if np.isnan(arr).any():\n",
    "        print(\"Warning: Chosen period contains years with no records\")\n",
    "    \n",
    "    # sum of missing days per catchment\n",
    "    b = arr.sum(axis=1)\n",
    "    # identifying catchments with more than 10% missing\n",
    "    c = (b/(365*period))>0.1\n",
    "    \n",
    "    return list(np.array(data[\"order\"])[c])"
   ]
  },
  {
   "cell_type": "markdown",
   "metadata": {},
   "source": [
    "# Updating metadata table"
   ]
  },
  {
   "cell_type": "markdown",
   "metadata": {},
   "source": [
    "Using the functions to update metadata table with new values (only for the last 30 years?)"
   ]
  },
  {
   "cell_type": "code",
   "execution_count": 22,
   "metadata": {},
   "outputs": [],
   "source": [
    "def updateMeta(data,startYear=1983,endYear=2012):\n",
    "    # resetting indeces\n",
    "    data[\"metadata\"].reset_index(drop=True,inplace=True)\n",
    "    \n",
    "    # seNorge\n",
    "    data[\"metadata\"][\"seNorge\"] = 1\n",
    "    for i in data[\"metadata\"].index:\n",
    "        if data[\"metadata\"].snumber[i] in findMissingSeNorge(data):\n",
    "            data[\"metadata\"].loc[i,\"seNorge\"] = 0\n",
    "    \n",
    "    # start and end years\n",
    "    start = startYear-1871\n",
    "    end = endYear-1871\n",
    "    data[\"metadata\"][\"missingData30yr\"] = np.nan\n",
    "    for i in data[\"metadata\"].index:\n",
    "        s = data[\"metadata\"].snumber[i]\n",
    "        \n",
    "        # missing data in 30 years\n",
    "        missing = missingDays(data[\"data\"][s][\"runoff\"])[start:end].sum()\n",
    "        data[\"metadata\"].loc[i,\"missingData30yr\"] = missing/(30*365)\n",
    "    \n",
    "        # updating start and end year\n",
    "        data[\"metadata\"].loc[i,\"start.yr\"] = data[\"data\"][s][\"runoff\"].index.year.min()\n",
    "        data[\"metadata\"].loc[i,\"end.yr\"] = data[\"data\"][s][\"runoff\"].index.year.max()"
   ]
  },
  {
   "cell_type": "code",
   "execution_count": 23,
   "metadata": {},
   "outputs": [],
   "source": [
    "updateMeta(sor)\n",
    "updateMeta(ost)\n",
    "updateMeta(vest)\n",
    "updateMeta(trond)\n",
    "updateMeta(nord)\n",
    "updateMeta(finn)"
   ]
  },
  {
   "cell_type": "markdown",
   "metadata": {},
   "source": [
    "# Final catchment selection"
   ]
  },
  {
   "cell_type": "markdown",
   "metadata": {},
   "source": [
    "Additional catchments may have to be rejected because of permission rights"
   ]
  },
  {
   "cell_type": "markdown",
   "metadata": {},
   "source": [
    "## Selection"
   ]
  },
  {
   "cell_type": "code",
   "execution_count": 24,
   "metadata": {},
   "outputs": [],
   "source": [
    "def recordsAvailiable(data,startYear,endYear):\n",
    "    \"\"\"\n",
    "    Returns list of catchments where runoff records are availiable for the chosen period.\n",
    "    \"\"\"\n",
    "    mask = (data[\"metadata\"][\"start.yr\"]<=startYear) & (data[\"metadata\"][\"end.yr\"]>=endYear)\n",
    "    qualified = list(data[\"metadata\"].snumber[mask])\n",
    "    return qualified"
   ]
  },
  {
   "cell_type": "code",
   "execution_count": 25,
   "metadata": {},
   "outputs": [],
   "source": [
    "def dataSelection(data,years=30,startYear=1983,endYear=2012):\n",
    "    \"\"\"\n",
    "    Adds the final data selection to the organised data dictionary.\n",
    "    \n",
    "    Parameters\n",
    "    ----------\n",
    "    data: dictionary of all catchment data\n",
    "    \n",
    "    Returns\n",
    "    -------\n",
    "    Nothing\n",
    "    \"\"\"\n",
    "    \n",
    "    # requirement 1: seNorge data is availiable\n",
    "    r1 = findMissingSeNorge(data)\n",
    "    # requirement 2: no more than 10 % missing data in period\n",
    "    r2 = findMissingDays(data,startYear=startYear,endYear=endYear)\n",
    "    \n",
    "    # disqualified catchments\n",
    "    disqual = r1 + r2\n",
    "    \n",
    "    # checking for availiable records in period\n",
    "    availiable = recordsAvailiable(data,startYear,endYear)\n",
    "    \n",
    "    # making copy of original list\n",
    "    catchments = data[\"order\"].copy()\n",
    "    \n",
    "    # removing disqualified catchments from list\n",
    "    for c in data[\"order\"]:\n",
    "        if (c not in availiable) or (c in disqual):\n",
    "            catchments.remove(c)\n",
    "        \n",
    "    # adding new list to dictionary\n",
    "    data[f\"final{years}\"] = catchments"
   ]
  },
  {
   "cell_type": "code",
   "execution_count": 26,
   "metadata": {
    "scrolled": true
   },
   "outputs": [
    {
     "name": "stdout",
     "output_type": "stream",
     "text": [
      "Warning: Chosen period contains years with no records\n"
     ]
    },
    {
     "name": "stderr",
     "output_type": "stream",
     "text": [
      "/Users/skam2905/anaconda3/lib/python3.6/site-packages/ipykernel_launcher.py:29: RuntimeWarning: invalid value encountered in greater\n"
     ]
    },
    {
     "name": "stdout",
     "output_type": "stream",
     "text": [
      "Warning: Chosen period contains years with no records\n",
      "Warning: Chosen period contains years with no records\n",
      "Warning: Chosen period contains years with no records\n",
      "Warning: Chosen period contains years with no records\n",
      "Warning: Chosen period contains years with no records\n"
     ]
    }
   ],
   "source": [
    "# 30 years\n",
    "dataSelection(ost)\n",
    "dataSelection(vest)\n",
    "dataSelection(sor)\n",
    "dataSelection(trond)\n",
    "dataSelection(nord)\n",
    "dataSelection(finn)\n",
    "\n",
    "# 50 years\n",
    "dataSelection(ost,years=50,startYear=1963)\n",
    "dataSelection(vest,years=50,startYear=1963)\n",
    "dataSelection(sor,years=50,startYear=1963)\n",
    "dataSelection(trond,years=50,startYear=1963)\n",
    "dataSelection(nord,years=50,startYear=1963)\n",
    "dataSelection(finn,years=50,startYear=1963)"
   ]
  },
  {
   "cell_type": "code",
   "execution_count": 27,
   "metadata": {},
   "outputs": [],
   "source": [
    "# 30 years\n",
    "finalSel = ost[\"final30\"] + sor[\"final30\"] + vest[\"final30\"] + trond[\"final30\"] + nord[\"final30\"] + finn[\"final30\"]\n",
    "newFinalSelection30 = df[df.snumber.isin(finalSel)]\n",
    "newFinalSelection30.to_csv(\"newFinalSelection_30years.csv\")\n",
    "removedCatchm30 = df[~df.snumber.isin(finalSel)]\n",
    "\n",
    "# 50 years\n",
    "finalSel = ost[\"final50\"] + sor[\"final50\"] + vest[\"final50\"] + trond[\"final50\"] + nord[\"final50\"] + finn[\"final50\"]\n",
    "newFinalSelection50 = df[df.snumber.isin(finalSel)]\n",
    "newFinalSelection50.to_csv(\"newFinalSelection_50years.csv\")\n",
    "# catchments removed from selection\n",
    "removedCatchm50 = df[~df.snumber.isin(finalSel)]\n",
    "\n",
    "finalSelectionList = {\"ost\":{30:ost[\"final30\"],50:ost[\"final50\"]},\n",
    "                      \"vest\":{30:vest[\"final30\"],50:vest[\"final50\"]},\n",
    "                      \"sor\":{30:sor[\"final30\"],50:sor[\"final50\"]},\n",
    "                      \"trond\":{30:trond[\"final30\"],50:trond[\"final50\"]},\n",
    "                      \"nord\":{30:nord[\"final30\"],50:nord[\"final50\"]},\n",
    "                      \"finn\":{30:finn[\"final30\"],50:finn[\"final50\"]}}\n",
    "saveDict(finalSelectionList,\"finalSelectionList\")"
   ]
  },
  {
   "cell_type": "code",
   "execution_count": 28,
   "metadata": {},
   "outputs": [
    {
     "name": "stdout",
     "output_type": "stream",
     "text": [
      "Catchments in recent trend analysis: 207\n",
      "Catchments in long-term trend analysis: 107\n"
     ]
    }
   ],
   "source": [
    "print(\"Catchments in recent trend analysis:\",newFinalSelection30.shape[0])\n",
    "print(\"Catchments in long-term trend analysis:\",newFinalSelection50.shape[0])"
   ]
  },
  {
   "cell_type": "code",
   "execution_count": 29,
   "metadata": {},
   "outputs": [],
   "source": [
    "# saving dictionaries with organised data to file\n",
    "saveDict(sor,\"sorlandet_final\")\n",
    "saveDict(ost,\"ostlandet_final\")\n",
    "saveDict(vest,\"vestlandet_final\")\n",
    "saveDict(trond,\"trondelag_final\")\n",
    "saveDict(nord,\"nordland_final\")\n",
    "saveDict(finn,\"finnmark_final\")"
   ]
  },
  {
   "cell_type": "code",
   "execution_count": 30,
   "metadata": {},
   "outputs": [],
   "source": [
    "frames = [finn[\"metadata\"],\n",
    "          nord[\"metadata\"],\n",
    "          trond[\"metadata\"],\n",
    "          vest[\"metadata\"],\n",
    "          ost[\"metadata\"],\n",
    "          sor[\"metadata\"]]\n",
    "          \n",
    "pd.concat(frames).to_csv(\"updated_stationselection.csv\")"
   ]
  },
  {
   "cell_type": "markdown",
   "metadata": {},
   "source": [
    "## Plots"
   ]
  },
  {
   "cell_type": "markdown",
   "metadata": {},
   "source": [
    "- Plot final catchment selection including disqualified cathcments in grey: *Already plotted, see runoffLength2 plots*\n",
    "- Visualise some of the metadata of the final catchment selection, e.g. area and altitude\n",
    "- Maps of locations"
   ]
  },
  {
   "cell_type": "code",
   "execution_count": 31,
   "metadata": {},
   "outputs": [],
   "source": [
    "data = {\"finn\":finn,\"nord\":nord,\"trond\":trond,\"vest\":vest,\"ost\":ost,\"sor\":sor}\n",
    "regionLabels = {'ost': 'Østlandet',\n",
    "                'sor': 'Sørlandet',\n",
    "                'vest': 'Vestlandet',\n",
    "                'trond': 'Trøndelag',\n",
    "                'nord': 'Nordland',\n",
    "                'finn': 'Finnmark'}"
   ]
  },
  {
   "cell_type": "code",
   "execution_count": 32,
   "metadata": {},
   "outputs": [
    {
     "data": {
      "image/png": "[encoded data removed]",
      "text/plain": [
       "<Figure size 720x504 with 6 Axes>"
      ]
     },
     "metadata": {},
     "output_type": "display_data"
    }
   ],
   "source": [
    "# with subplotting version 2\n",
    "fig,ax = plt.subplots(nrows = 3,ncols = 2,sharex = True,sharey=True,figsize=(10,7))\n",
    "plt.xlim(0,70)\n",
    "\n",
    "for i in range(len(data.keys())):\n",
    "    reg = list(data.keys())[i]\n",
    "    df = data[reg]\n",
    "    dfr30 = df[\"metadata\"][df[\"metadata\"].snumber.isin(df[f\"final30\"])]\n",
    "    dfr50 = df[\"metadata\"][df[\"metadata\"].snumber.isin(df[f\"final50\"])]\n",
    "    rm = df[\"metadata\"][~df[\"metadata\"].snumber.isin(df[f\"final50\"])]\n",
    "    if i < 3:\n",
    "        ax[i][0].bar(rm[\"station.order\"],rm[\"altitude\"],width=1,color=\"lightgrey\",label=\"Eliminated\")\n",
    "        ax[i][0].bar(dfr30[\"station.order\"],dfr30[\"altitude\"],width=1,color=\"k\",label=\"Selected 30year\")\n",
    "        ax[i][0].bar(dfr50[\"station.order\"],dfr50[\"altitude\"],width=0.4,color=\"c\",label=\"Selected 50year\")\n",
    "        ax[i][0].set_title(regionLabels[reg])\n",
    "    else:\n",
    "        ax[i-3][1].bar(rm[\"station.order\"],rm[\"altitude\"],width=1,color=\"lightgrey\",label=\"Eliminated\")\n",
    "        ax[i-3][1].bar(dfr30[\"station.order\"],dfr30[\"altitude\"],width=1,color=\"k\",label=\"Recent\")\n",
    "        ax[i-3][1].bar(dfr50[\"station.order\"],dfr50[\"altitude\"],width=0.4,color=\"c\",label=\"Long-term\")\n",
    "        ax[i-3][1].set_title(regionLabels[reg])\n",
    "        \n",
    "fig.text(0.5, 0.04, \"Station number\", ha=\"center\",fontsize=12)\n",
    "fig.text(0.04, 0.5, \"Median altitude of catchment in $m.a.s.l.$\", va=\"center\", rotation=\"vertical\",fontsize=12)\n",
    "plt.legend()\n",
    "fig.savefig(f\"Plots/elevation_selectedStations2_final\",dpi=400,bbox_inches='tight')"
   ]
  },
  {
   "cell_type": "code",
   "execution_count": 33,
   "metadata": {},
   "outputs": [],
   "source": [
    "marker = itertools.cycle((\"v\", \"x\", \"+\", \"D\", \"^\",\".\"))\n",
    "for label, dfr in newFinalSelection30.groupby(\"runoff.region\"):\n",
    "    plt.figure()\n",
    "    plt.hist(dfr.altitude,color=\"grey\")\n",
    "    plt.title(label)\n",
    "    plt.xlabel(\"Elevation in $m$\")\n",
    "    plt.ylabel(\"Frequency\")\n",
    "    plt.savefig(f\"Plots/final_hist_{label}_altitude.png\",dpi=400,bbox_inches='tight')\n",
    "    plt.close()"
   ]
  },
  {
   "cell_type": "code",
   "execution_count": 34,
   "metadata": {},
   "outputs": [
    {
     "ename": "KeyError",
     "evalue": "'finnmark'",
     "output_type": "error",
     "traceback": [
      "\u001b[0;31m---------------------------------------------------------------------------\u001b[0m",
      "\u001b[0;31mKeyError\u001b[0m                                  Traceback (most recent call last)",
      "\u001b[0;32m<ipython-input-34-20a7b1b83592>\u001b[0m in \u001b[0;36m<module>\u001b[0;34m()\u001b[0m\n\u001b[1;32m      1\u001b[0m \u001b[0;32mfor\u001b[0m \u001b[0mlabel\u001b[0m\u001b[0;34m,\u001b[0m \u001b[0mdfr\u001b[0m \u001b[0;32min\u001b[0m \u001b[0mnewFinalSelection30\u001b[0m\u001b[0;34m.\u001b[0m\u001b[0mgroupby\u001b[0m\u001b[0;34m(\u001b[0m\u001b[0;34m\"runoff.region\"\u001b[0m\u001b[0;34m)\u001b[0m\u001b[0;34m:\u001b[0m\u001b[0;34m\u001b[0m\u001b[0m\n\u001b[0;32m----> 2\u001b[0;31m     \u001b[0mplt\u001b[0m\u001b[0;34m.\u001b[0m\u001b[0mplot\u001b[0m\u001b[0;34m(\u001b[0m\u001b[0mdfr\u001b[0m\u001b[0;34m.\u001b[0m\u001b[0mareal\u001b[0m\u001b[0;34m,\u001b[0m\u001b[0mdfr\u001b[0m\u001b[0;34m.\u001b[0m\u001b[0maltitude\u001b[0m\u001b[0;34m,\u001b[0m\u001b[0;34m\".\"\u001b[0m\u001b[0;34m,\u001b[0m\u001b[0mmarker\u001b[0m\u001b[0;34m=\u001b[0m\u001b[0mnext\u001b[0m\u001b[0;34m(\u001b[0m\u001b[0mmarker\u001b[0m\u001b[0;34m)\u001b[0m\u001b[0;34m,\u001b[0m\u001b[0mlabel\u001b[0m\u001b[0;34m=\u001b[0m\u001b[0mregionLabels\u001b[0m\u001b[0;34m[\u001b[0m\u001b[0mlabel\u001b[0m\u001b[0;34m]\u001b[0m\u001b[0;34m)\u001b[0m\u001b[0;34m\u001b[0m\u001b[0m\n\u001b[0m\u001b[1;32m      3\u001b[0m \u001b[0mplt\u001b[0m\u001b[0;34m.\u001b[0m\u001b[0mylabel\u001b[0m\u001b[0;34m(\u001b[0m\u001b[0;34m\"Elevation in $m$\"\u001b[0m\u001b[0;34m)\u001b[0m\u001b[0;34m\u001b[0m\u001b[0m\n\u001b[1;32m      4\u001b[0m \u001b[0mplt\u001b[0m\u001b[0;34m.\u001b[0m\u001b[0mxlabel\u001b[0m\u001b[0;34m(\u001b[0m\u001b[0;34m\"Area\"\u001b[0m\u001b[0;34m)\u001b[0m\u001b[0;34m\u001b[0m\u001b[0m\n\u001b[1;32m      5\u001b[0m \u001b[0mplt\u001b[0m\u001b[0;34m.\u001b[0m\u001b[0mlegend\u001b[0m\u001b[0;34m(\u001b[0m\u001b[0;34m)\u001b[0m\u001b[0;34m\u001b[0m\u001b[0m\n",
      "\u001b[0;31mKeyError\u001b[0m: 'finnmark'"
     ]
    }
   ],
   "source": [
    "for label, dfr in newFinalSelection30.groupby(\"runoff.region\"):\n",
    "    plt.plot(dfr.areal,dfr.altitude,\".\",marker=next(marker),label=regionLabels[label])\n",
    "plt.ylabel(\"Elevation in $m$\")\n",
    "plt.xlabel(\"Area\")\n",
    "plt.legend()\n",
    "plt.savefig(\"Plots/final_scatter_altitude_area_30year.png\",dpi=400,bbox_inches='tight')\n",
    "\n",
    "plt.figure()\n",
    "for label, dfr in newFinalSelection50.groupby(\"runoff.region\"):\n",
    "    plt.plot(dfr.areal,dfr.altitude,\".\",marker=next(marker),label=regionLabels[label])\n",
    "plt.ylabel(\"Elevation in $m$\")\n",
    "plt.xlabel(\"Area\")\n",
    "plt.legend()\n",
    "plt.savefig(\"Plots/final_scatter_altitude_area_50year.png\",dpi=400,bbox_inches='tight')"
   ]
  },
  {
   "cell_type": "code",
   "execution_count": 35,
   "metadata": {},
   "outputs": [
    {
     "ename": "KeyError",
     "evalue": "'finnmark'",
     "output_type": "error",
     "traceback": [
      "\u001b[0;31m---------------------------------------------------------------------------\u001b[0m",
      "\u001b[0;31mKeyError\u001b[0m                                  Traceback (most recent call last)",
      "\u001b[0;32m<ipython-input-35-46b5a3527dee>\u001b[0m in \u001b[0;36m<module>\u001b[0;34m()\u001b[0m\n\u001b[1;32m      2\u001b[0m \u001b[0mplt\u001b[0m\u001b[0;34m.\u001b[0m\u001b[0mfigure\u001b[0m\u001b[0;34m(\u001b[0m\u001b[0mfigsize\u001b[0m\u001b[0;34m=\u001b[0m\u001b[0;34m(\u001b[0m\u001b[0;36m5\u001b[0m\u001b[0;34m,\u001b[0m\u001b[0;36m10\u001b[0m\u001b[0;34m)\u001b[0m\u001b[0;34m)\u001b[0m\u001b[0;34m\u001b[0m\u001b[0m\n\u001b[1;32m      3\u001b[0m \u001b[0;32mfor\u001b[0m \u001b[0mlabel\u001b[0m\u001b[0;34m,\u001b[0m \u001b[0mdf\u001b[0m \u001b[0;32min\u001b[0m \u001b[0mnewFinalSelection30\u001b[0m\u001b[0;34m.\u001b[0m\u001b[0mgroupby\u001b[0m\u001b[0;34m(\u001b[0m\u001b[0;34m\"runoff.region\"\u001b[0m\u001b[0;34m)\u001b[0m\u001b[0;34m:\u001b[0m\u001b[0;34m\u001b[0m\u001b[0m\n\u001b[0;32m----> 4\u001b[0;31m     \u001b[0mplt\u001b[0m\u001b[0;34m.\u001b[0m\u001b[0mplot\u001b[0m\u001b[0;34m(\u001b[0m\u001b[0mdf\u001b[0m\u001b[0;34m.\u001b[0m\u001b[0maltitude\u001b[0m\u001b[0;34m,\u001b[0m\u001b[0mdf\u001b[0m\u001b[0;34m.\u001b[0m\u001b[0mlat\u001b[0m\u001b[0;34m,\u001b[0m\u001b[0;34m\".\"\u001b[0m\u001b[0;34m,\u001b[0m\u001b[0mmarker\u001b[0m\u001b[0;34m=\u001b[0m\u001b[0mnext\u001b[0m\u001b[0;34m(\u001b[0m\u001b[0mmarker\u001b[0m\u001b[0;34m)\u001b[0m\u001b[0;34m,\u001b[0m\u001b[0mlabel\u001b[0m\u001b[0;34m=\u001b[0m\u001b[0mregionLabels\u001b[0m\u001b[0;34m[\u001b[0m\u001b[0mlabel\u001b[0m\u001b[0;34m]\u001b[0m\u001b[0;34m,\u001b[0m\u001b[0mcolor\u001b[0m\u001b[0;34m=\u001b[0m\u001b[0mnext\u001b[0m\u001b[0;34m(\u001b[0m\u001b[0mcolors\u001b[0m\u001b[0;34m)\u001b[0m\u001b[0;34m)\u001b[0m\u001b[0;34m\u001b[0m\u001b[0m\n\u001b[0m\u001b[1;32m      5\u001b[0m \u001b[0mplt\u001b[0m\u001b[0;34m.\u001b[0m\u001b[0mxlabel\u001b[0m\u001b[0;34m(\u001b[0m\u001b[0;34m\"Elevation in $m$\"\u001b[0m\u001b[0;34m)\u001b[0m\u001b[0;34m\u001b[0m\u001b[0m\n\u001b[1;32m      6\u001b[0m \u001b[0mplt\u001b[0m\u001b[0;34m.\u001b[0m\u001b[0mylabel\u001b[0m\u001b[0;34m(\u001b[0m\u001b[0;34m\"Latitude\"\u001b[0m\u001b[0;34m)\u001b[0m\u001b[0;34m\u001b[0m\u001b[0m\n",
      "\u001b[0;31mKeyError\u001b[0m: 'finnmark'"
     ]
    },
    {
     "data": {
      "text/plain": [
       "<Figure size 360x720 with 0 Axes>"
      ]
     },
     "metadata": {},
     "output_type": "display_data"
    }
   ],
   "source": [
    "colors = itertools.cycle((\"c\", \"darkslategrey\"))\n",
    "plt.figure(figsize=(5,10))\n",
    "for label, df in newFinalSelection30.groupby(\"runoff.region\"):\n",
    "    plt.plot(df.altitude,df.lat,\".\",marker=next(marker),label=regionLabels[label],color=next(colors))\n",
    "plt.xlabel(\"Elevation in $m$\")\n",
    "plt.ylabel(\"Latitude\")\n",
    "plt.legend()\n",
    "plt.savefig(\"Plots/final_scatter_lat_altitude_30year.png\",dpi=400,bbox_inches='tight')"
   ]
  },
  {
   "cell_type": "code",
   "execution_count": 36,
   "metadata": {},
   "outputs": [
    {
     "ename": "KeyError",
     "evalue": "'finnmark'",
     "output_type": "error",
     "traceback": [
      "\u001b[0;31m---------------------------------------------------------------------------\u001b[0m",
      "\u001b[0;31mKeyError\u001b[0m                                  Traceback (most recent call last)",
      "\u001b[0;32m<ipython-input-36-ac9d14013b05>\u001b[0m in \u001b[0;36m<module>\u001b[0;34m()\u001b[0m\n\u001b[1;32m      1\u001b[0m \u001b[0;32mfor\u001b[0m \u001b[0mlabel\u001b[0m\u001b[0;34m,\u001b[0m \u001b[0mdf\u001b[0m \u001b[0;32min\u001b[0m \u001b[0mnewFinalSelection30\u001b[0m\u001b[0;34m.\u001b[0m\u001b[0mgroupby\u001b[0m\u001b[0;34m(\u001b[0m\u001b[0;34m\"runoff.region\"\u001b[0m\u001b[0;34m)\u001b[0m\u001b[0;34m:\u001b[0m\u001b[0;34m\u001b[0m\u001b[0m\n\u001b[0;32m----> 2\u001b[0;31m     \u001b[0mplt\u001b[0m\u001b[0;34m.\u001b[0m\u001b[0mplot\u001b[0m\u001b[0;34m(\u001b[0m\u001b[0mdf\u001b[0m\u001b[0;34m.\u001b[0m\u001b[0mareal\u001b[0m\u001b[0;34m,\u001b[0m\u001b[0mdf\u001b[0m\u001b[0;34m.\u001b[0m\u001b[0mlat\u001b[0m\u001b[0;34m,\u001b[0m\u001b[0;34m\".\"\u001b[0m\u001b[0;34m,\u001b[0m\u001b[0mmarker\u001b[0m\u001b[0;34m=\u001b[0m\u001b[0mnext\u001b[0m\u001b[0;34m(\u001b[0m\u001b[0mmarker\u001b[0m\u001b[0;34m)\u001b[0m\u001b[0;34m,\u001b[0m\u001b[0mlabel\u001b[0m\u001b[0;34m=\u001b[0m\u001b[0mregionLabels\u001b[0m\u001b[0;34m[\u001b[0m\u001b[0mlabel\u001b[0m\u001b[0;34m]\u001b[0m\u001b[0;34m)\u001b[0m\u001b[0;34m\u001b[0m\u001b[0m\n\u001b[0m\u001b[1;32m      3\u001b[0m \u001b[0mplt\u001b[0m\u001b[0;34m.\u001b[0m\u001b[0mxlabel\u001b[0m\u001b[0;34m(\u001b[0m\u001b[0;34m\"Area\"\u001b[0m\u001b[0;34m)\u001b[0m\u001b[0;34m\u001b[0m\u001b[0m\n\u001b[1;32m      4\u001b[0m \u001b[0mplt\u001b[0m\u001b[0;34m.\u001b[0m\u001b[0mylabel\u001b[0m\u001b[0;34m(\u001b[0m\u001b[0;34m\"Latitude\"\u001b[0m\u001b[0;34m)\u001b[0m\u001b[0;34m\u001b[0m\u001b[0m\n\u001b[1;32m      5\u001b[0m \u001b[0mplt\u001b[0m\u001b[0;34m.\u001b[0m\u001b[0mlegend\u001b[0m\u001b[0;34m(\u001b[0m\u001b[0;34m)\u001b[0m\u001b[0;34m\u001b[0m\u001b[0m\n",
      "\u001b[0;31mKeyError\u001b[0m: 'finnmark'"
     ]
    }
   ],
   "source": [
    "for label, df in newFinalSelection30.groupby(\"runoff.region\"):\n",
    "    plt.plot(df.areal,df.lat,\".\",marker=next(marker),label=regionLabels[label])\n",
    "plt.xlabel(\"Area\")\n",
    "plt.ylabel(\"Latitude\")\n",
    "plt.legend()\n",
    "plt.savefig(\"Plots/final_scatter_lat_area_30year.png\",dpi=400,bbox_inches='tight')"
   ]
  },
  {
   "cell_type": "code",
   "execution_count": null,
   "metadata": {},
   "outputs": [],
   "source": [
    "def plotRunoffLengthFinal(data,title,filename):\n",
    "    cmap=plt.cm.get_cmap(\"RdYlGn_r\")\n",
    "    a = missingDaysRegion(data)\n",
    "    plt.figure(figsize=(15,a.shape[0]/10))\n",
    "    # if more than 30 days are missing, they are red\n",
    "    plt.imshow(a,cmap=cmap,vmin=0,vmax=366,aspect=1.5)\n",
    "    plt.xlabel(\"Years\")\n",
    "    plt.xticks(range(-1,145,10),range(1870,2014,10))\n",
    "    plt.ylabel(\"Station ordered by altitude\")\n",
    "    cbar = plt.colorbar(shrink=1/(a.shape[0])*20, label=\"Missing days per year\")\n",
    "    cbar.ax.invert_yaxis()\n",
    "    plt.title(title)\n",
    "    for i in range(len(data[\"order\"])):\n",
    "        if data[\"order\"][i] not in data[\"final50\"]:\n",
    "            plt.axhline(i,color=\"lightgrey\",xmin=(1963-1870)/144,xmax=(1982-1870)/144,linewidth=3,label=\"Removed from 30 year analysis\")\n",
    "    for i in range(len(data[\"order\"])):\n",
    "        if data[\"order\"][i] not in data[\"final30\"]:\n",
    "            plt.axhline(i,color=\"grey\",xmin=(1983-1870)/144,linewidth=3)\n",
    "    plt.savefig(f\"Plots/runoffLengthFinal_{filename}.png\",dpi=300,bbox_inches='tight')"
   ]
  },
  {
   "cell_type": "code",
   "execution_count": null,
   "metadata": {},
   "outputs": [],
   "source": [
    "legend_elements = [Line2D([0], [0], color=\"grey\",label=\"Recent\"),\n",
    "                       Line2D([0], [0], color=\"lightgrey\",label=\"Long-term analysis\")]\n",
    "plt.legend(handles=legend_elements, loc=\"center\",title=\"Cathcment eliminated from:                       \",ncol=2)\n",
    "plt.savefig(f\"Plots/runoffLengthFinal_legend.png\",dpi=300,bbox_inches='tight')"
   ]
  },
  {
   "cell_type": "code",
   "execution_count": null,
   "metadata": {
    "scrolled": false
   },
   "outputs": [],
   "source": [
    "plotRunoffLengthFinal(sor,\"Sørlandet\",\"sorlandet\")\n",
    "plotRunoffLengthFinal(ost,\"Østlandet\",\"ostlandet\")\n",
    "plotRunoffLengthFinal(vest,\"Vestlandet\",\"vestlandet\")\n",
    "plotRunoffLengthFinal(nord,\"Nordland\",\"nordland\")\n",
    "plotRunoffLengthFinal(trond,\"Trøndelag\",\"trondelag\")\n",
    "plotRunoffLengthFinal(finn,\"Finnmark\",\"finnmark\")"
   ]
  },
  {
   "cell_type": "markdown",
   "metadata": {},
   "source": [
    "## Map"
   ]
  },
  {
   "cell_type": "code",
   "execution_count": null,
   "metadata": {},
   "outputs": [],
   "source": [
    "norge = gpd.read_file(\"gis/Norge.shp\")\n",
    "regionLines = gpd.read_file(\"gis/Grense_Avrenningsregioner.shp\")\n",
    "stations = gpd.read_file(\"gis/Gauging_Stations.shp\")"
   ]
  },
  {
   "cell_type": "code",
   "execution_count": null,
   "metadata": {},
   "outputs": [],
   "source": [
    "regine = list(newFinalSelection30.regine)\n",
    "main = list(newFinalSelection30.main)\n",
    "station30 = []\n",
    "for i in range(len(regine)):\n",
    "    station30.append(f\"{str(regine[i])}.{str(main[i])}\")\n",
    "\n",
    "regine = list(removedCatchm30.regine)\n",
    "main = list(removedCatchm30.main)\n",
    "removed30 = []\n",
    "for i in range(len(regine)):\n",
    "    removed30.append(f\"{str(regine[i])}.{str(main[i])}\")\n",
    "    \n",
    "regine = list(newFinalSelection50.regine)\n",
    "main = list(newFinalSelection50.main)\n",
    "station50 = []\n",
    "for i in range(len(regine)):\n",
    "    station50.append(f\"{str(regine[i])}.{str(main[i])}\")"
   ]
  },
  {
   "cell_type": "code",
   "execution_count": null,
   "metadata": {},
   "outputs": [],
   "source": [
    "mask = stations.STASJON_NR.isin(station30)\n",
    "stations30 = stations[mask]\n",
    "mask = stations.STASJON_NR.isin(removed30)\n",
    "rstations30 = stations[mask]\n",
    "mask = stations.STASJON_NR.isin(station50)\n",
    "stations50 = stations[mask]"
   ]
  },
  {
   "cell_type": "code",
   "execution_count": null,
   "metadata": {},
   "outputs": [],
   "source": [
    "fig,ax = plt.subplots(figsize=(30,10))\n",
    "norge.plot(ax=ax,color=\"white\", edgecolor=\"lightgrey\")\n",
    "regionLines.plot(ax=ax,color=\"darksalmon\",label=\"Runoff region\")\n",
    "rstations30.plot(ax=ax,color=\"grey\",marker=\"x\",markersize=20,label=\"Removed\")\n",
    "stations30.plot(ax=ax,marker=\"v\",markersize=40,color=\"k\",label=\"Recent\",alpha=.8)\n",
    "stations50.plot(ax=ax,marker=\"^\",markersize=40,color=\"c\",label=\"Long-term\",alpha=.8)\n",
    "plt.setp(ax.get_xticklabels(), visible=False)\n",
    "plt.setp(ax.get_yticklabels(), visible=False)\n",
    "plt.setp(ax.get_xticklines(), visible=False)\n",
    "plt.setp(ax.get_yticklines(), visible=False)\n",
    "plt.setp(ax.spines.values(), visible=False)\n",
    "plt.legend(loc=\"upper left\")\n",
    "plt.savefig(\"Plots/final&removed_map.png\",dpi=400,bbox_inches='tight')"
   ]
  },
  {
   "cell_type": "markdown",
   "metadata": {},
   "source": [
    "## Moving average"
   ]
  },
  {
   "cell_type": "markdown",
   "metadata": {},
   "source": [
    "### Window comparison"
   ]
  },
  {
   "cell_type": "code",
   "execution_count": 46,
   "metadata": {},
   "outputs": [
    {
     "data": {
      "image/png": "[encoded data removed]",
      "text/plain": [
       "<Figure size 720x360 with 1 Axes>"
      ]
     },
     "metadata": {},
     "output_type": "display_data"
    }
   ],
   "source": [
    "catchm = trond[\"final30\"][5]\n",
    "runoff = trond[\"data\"][catchm][\"runoff\"]\n",
    "\n",
    "# moving average with different window sizes\n",
    "runoff5day = runoff.rolling(5,center=True).mean()\n",
    "runoff10day = runoff.rolling(10,center=True).mean()\n",
    "runoff15day = runoff.rolling(15,center=True).mean()\n",
    "runoff20day = runoff.rolling(20,center=True).mean()\n",
    "runoff30day = runoff.rolling(30,center=True).mean()\n",
    "\n",
    "line = itertools.cycle((\"--\",\"-.\",\":\"))\n",
    "colors = itertools.cycle((\"c\",\"salmon\",\"olive\"))\n",
    "\n",
    "# plotting\n",
    "plt.figure(figsize=(10,5))\n",
    "plt.plot(runoff.runoff[\"2013\"],\"darkslategray\",label=\"Original\")\n",
    "plt.plot(runoff5day.runoff[\"2013\"],next(line),linewidth=2.5,color=next(colors),label=\"5day\")\n",
    "plt.plot(runoff10day.runoff[\"2013\"],next(line),linewidth=2.5,color=next(colors),label=\"10day\")\n",
    "#plt.plot(runoff15day.runoff[-365:],next(line),linewidth=2.5,color=next(colors),label=\"15day\")\n",
    "#plt.plot(runoff20day.runoff[-365:],next(line),linewidth=2.5,color=next(colors),label=\"20day\")\n",
    "plt.plot(runoff30day.runoff[\"2013\"],next(line),linewidth=2.5,color=next(colors),label=\"30day\")\n",
    "plt.ylabel(\"Mean daily streamflow ($m^3 \\ s^{-1}$)\")\n",
    "plt.title(f\"Catchment: {catchm} (Trøndelag)\")\n",
    "plt.legend()\n",
    "plt.savefig(\"Plots/movingAverage_example_streamflow.png\",dpi=400,bbox_inches='tight')"
   ]
  },
  {
   "cell_type": "code",
   "execution_count": 45,
   "metadata": {},
   "outputs": [
    {
     "data": {
      "image/png": "[encoded data removed]",
      "text/plain": [
       "<Figure size 720x360 with 1 Axes>"
      ]
     },
     "metadata": {},
     "output_type": "display_data"
    }
   ],
   "source": [
    "catchm = trond[\"final30\"][5]\n",
    "runoff = trond[\"data\"][catchm][\"snow\"]\n",
    "\n",
    "# moving average with different window sizes\n",
    "runoff5day = runoff.rolling(5,center=True).mean()\n",
    "runoff10day = runoff.rolling(10,center=True).mean()\n",
    "runoff15day = runoff.rolling(15,center=True).mean()\n",
    "runoff20day = runoff.rolling(20,center=True).mean()\n",
    "runoff30day = runoff.rolling(30,center=True).mean()\n",
    "\n",
    "line = itertools.cycle((\"--\",\"-.\",\":\"))\n",
    "colors = itertools.cycle((\"c\",\"salmon\",\"olive\"))\n",
    "\n",
    "# plotting\n",
    "plt.figure(figsize=(10,5))\n",
    "plt.plot(runoff[\"2013\"],\"darkslategray\",label=\"Original\")\n",
    "plt.plot(runoff5day[\"2013\"],next(line),linewidth=2.5,color=next(colors),label=\"5day\")\n",
    "plt.plot(runoff10day[\"2013\"],next(line),linewidth=2.5,color=next(colors),label=\"10day\")\n",
    "#plt.plot(runoff15day.runoff[-365:],next(line),linewidth=2.5,color=next(colors),label=\"15day\")\n",
    "#plt.plot(runoff20day.runoff[-365:],next(line),linewidth=2.5,color=next(colors),label=\"20day\")\n",
    "plt.plot(runoff30day[\"2013\"],next(line),linewidth=2.5,color=next(colors),label=\"30day\")\n",
    "plt.ylabel(\"Daily snowmelt ($mm$)\")\n",
    "plt.title(f\"Catchment: {catchm} (Trøndelag)\")\n",
    "plt.legend()\n",
    "plt.savefig(\"Plots/movingAverage_example_snowmelt.png\",dpi=400,bbox_inches='tight')"
   ]
  },
  {
   "cell_type": "code",
   "execution_count": 47,
   "metadata": {},
   "outputs": [
    {
     "data": {
      "image/png": "[encoded data removed]",
      "text/plain": [
       "<Figure size 720x360 with 1 Axes>"
      ]
     },
     "metadata": {},
     "output_type": "display_data"
    }
   ],
   "source": [
    "catchm = trond[\"final30\"][5]\n",
    "runoff = trond[\"data\"][catchm][\"precip\"]\n",
    "\n",
    "# moving average with different window sizes\n",
    "runoff5day = runoff.rolling(5,center=True).mean()\n",
    "runoff10day = runoff.rolling(10,center=True).mean()\n",
    "runoff15day = runoff.rolling(15,center=True).mean()\n",
    "runoff20day = runoff.rolling(20,center=True).mean()\n",
    "runoff30day = runoff.rolling(30,center=True).mean()\n",
    "\n",
    "line = itertools.cycle((\"--\",\"-.\",\":\"))\n",
    "colors = itertools.cycle((\"c\",\"salmon\",\"olive\"))\n",
    "\n",
    "# plotting\n",
    "plt.figure(figsize=(10,5))\n",
    "plt.plot(runoff[\"2013\"],\"darkslategray\",label=\"Original\")\n",
    "plt.plot(runoff5day[\"2013\"],next(line),linewidth=2.5,color=next(colors),label=\"5day\")\n",
    "plt.plot(runoff10day[\"2013\"],next(line),linewidth=2.5,color=next(colors),label=\"10day\")\n",
    "#plt.plot(runoff15day.runoff[-365:],next(line),linewidth=2.5,color=next(colors),label=\"15day\")\n",
    "#plt.plot(runoff20day.runoff[-365:],next(line),linewidth=2.5,color=next(colors),label=\"20day\")\n",
    "plt.plot(runoff30day[\"2013\"],next(line),linewidth=2.5,color=next(colors),label=\"30day\")\n",
    "plt.ylabel(\"Daily rainfall ($mm$)\")\n",
    "plt.title(f\"Catchment: {catchm} (Trøndelag)\")\n",
    "plt.legend()\n",
    "plt.savefig(\"Plots/movingAverage_example_rainfall.png\",dpi=400,bbox_inches='tight')"
   ]
  },
  {
   "cell_type": "markdown",
   "metadata": {},
   "source": [
    "### Extract timeseries"
   ]
  },
  {
   "cell_type": "code",
   "execution_count": null,
   "metadata": {},
   "outputs": [],
   "source": [
    "def extractMA(timeseries, interval, startYear=1983, endYear = 2012):\n",
    "    \"\"\"\n",
    "    Exstracts moving average timeseries in given timeperiod \n",
    "    \n",
    "    Parameters\n",
    "    ----------\n",
    "    timeseries: \n",
    "        a pandas timeseries, with datetime index\n",
    "    interval: int\n",
    "        number of days in window\n",
    "    startYear: int\n",
    "        start of timeseries\n",
    "    endYear: int\n",
    "        end of timeseries\n",
    "        \n",
    "    Returns\n",
    "    -------\n",
    "    timeseries for given years\n",
    "    \"\"\"\n",
    "    start = datetime.datetime(startYear,1,1)\n",
    "    end = datetime.datetime(endYear,12,31)\n",
    "    \n",
    "    series = timeseries.rolling(interval,center=True).mean()\n",
    "    \n",
    "    return series[start:end]"
   ]
  },
  {
   "cell_type": "markdown",
   "metadata": {},
   "source": [
    "#### Runoff"
   ]
  },
  {
   "cell_type": "code",
   "execution_count": null,
   "metadata": {},
   "outputs": [],
   "source": [
    "r = [\"ost\",\"vest\",\"sor\",\"nord\",\"trond\",\"finn\"]\n",
    "data = [ost,vest,sor,nord,trond,finn]\n",
    "data = dict(zip(r,data))\n",
    "\n",
    "\"\"\"runoff30 = {}\n",
    "for region in data.keys():\n",
    "    runoff30yr = {}\n",
    "    d = data[region]\n",
    "    for c in d[\"final\"]:\n",
    "        ts = d[\"data\"][c][\"runoff\"]\n",
    "        runoff30yr[c] = {}\n",
    "        runoff30yr[c][\"5day\"] = extractMA(ts, interval = 5).runoff\n",
    "        runoff30yr[c][\"10day\"] = extractMA(ts, interval = 10).runoff\n",
    "        runoff30yr[c][\"30day\"] = extractMA(ts, interval = 30).runoff\n",
    "    \n",
    "    runoff30[region] = runoff30yr\"\"\"\n",
    "\n",
    "spesRunoff30 = {}\n",
    "for region in data.keys():\n",
    "    runoff30yr = {}\n",
    "    d = data[region]\n",
    "    meta = d[\"metadata\"]\n",
    "    for c in d[\"final30\"]:\n",
    "        area = float(d[\"metadata\"][d[\"metadata\"].snumber==c].areal)\n",
    "        ts = d[\"data\"][c][\"runoff\"]/area\n",
    "        runoff30yr[c] = {}\n",
    "        runoff30yr[c][\"5day\"] = extractMA(ts, interval = 5).runoff/area\n",
    "        runoff30yr[c][\"10day\"] = extractMA(ts, interval = 10).runoff/area\n",
    "        runoff30yr[c][\"30day\"] = extractMA(ts, interval = 30).runoff/area\n",
    "    \n",
    "    spesRunoff30[region] = runoff30yr\n",
    "    \n",
    "\"\"\"runoff50 = {}\n",
    "for region in data.keys():\n",
    "    runoff30yr = {}\n",
    "    d = data[region]\n",
    "    for c in d[\"final\"]:\n",
    "        ts = d[\"data\"][c][\"runoff\"]\n",
    "        runoff30yr[c] = {}\n",
    "        runoff30yr[c][\"5day\"] = extractMA(ts, interval = 5, startYear=1963).runoff\n",
    "        runoff30yr[c][\"10day\"] = extractMA(ts, interval = 10, startYear=1963).runoff\n",
    "        runoff30yr[c][\"30day\"] = extractMA(ts, interval = 30, startYear=1963).runoff\n",
    "    \n",
    "    runoff50[region] = runoff30yr\"\"\"\n",
    "\n",
    "spesRunoff50 = {}\n",
    "for region in data.keys():\n",
    "    runoff30yr = {}\n",
    "    d = data[region]\n",
    "    meta = d[\"metadata\"]\n",
    "    for c in d[\"final50\"]:\n",
    "        area = float(d[\"metadata\"][d[\"metadata\"].snumber==c].areal)\n",
    "        ts = d[\"data\"][c][\"runoff\"]/area\n",
    "        runoff30yr[c] = {}\n",
    "        runoff30yr[c][\"5day\"] = extractMA(ts, interval = 5, startYear=1963).runoff/area\n",
    "        runoff30yr[c][\"10day\"] = extractMA(ts, interval = 10, startYear=1963).runoff/area\n",
    "        runoff30yr[c][\"30day\"] = extractMA(ts, interval = 30, startYear=1963).runoff/area\n",
    "    \n",
    "    spesRunoff50[region] = runoff30yr"
   ]
  },
  {
   "cell_type": "markdown",
   "metadata": {},
   "source": [
    "#### Temperature"
   ]
  },
  {
   "cell_type": "code",
   "execution_count": null,
   "metadata": {},
   "outputs": [],
   "source": [
    "temp30 = {}\n",
    "for region in data.keys():\n",
    "    temp30yr = {}\n",
    "    d = data[region]\n",
    "    for c in d[\"final30\"]:\n",
    "        ts = d[\"data\"][c][\"temp\"]\n",
    "        temp30yr[c] = {}\n",
    "        temp30yr[c][\"5day\"] = extractMA(ts, interval = 5)\n",
    "        temp30yr[c][\"10day\"] = extractMA(ts, interval = 10)\n",
    "        temp30yr[c][\"30day\"] = extractMA(ts, interval = 30)\n",
    "    \n",
    "    temp30[region] = temp30yr\n",
    "    \n",
    "temp50 = {}\n",
    "for region in data.keys():\n",
    "    temp30yr = {}\n",
    "    d = data[region]\n",
    "    for c in d[\"final50\"]:\n",
    "        ts = d[\"data\"][c][\"temp\"]\n",
    "        temp30yr[c] = {}\n",
    "        temp30yr[c][\"5day\"] = extractMA(ts, interval = 5, startYear=1963)\n",
    "        temp30yr[c][\"10day\"] = extractMA(ts, interval = 10, startYear=1963)\n",
    "        temp30yr[c][\"30day\"] = extractMA(ts, interval = 30, startYear=1963)\n",
    "    \n",
    "    temp50[region] = temp30yr"
   ]
  },
  {
   "cell_type": "markdown",
   "metadata": {},
   "source": [
    "#### Rainfall\n",
    "\n",
    "**OBS!** \"Precipitation\" is possibly only rainfall data\n",
    "\n",
    "How should it be smoothed? Does MA makes sense?"
   ]
  },
  {
   "cell_type": "code",
   "execution_count": null,
   "metadata": {},
   "outputs": [],
   "source": [
    "rainfall30 = {}\n",
    "for region in data.keys():\n",
    "    rainfall30yr = {}\n",
    "    d = data[region]\n",
    "    for c in d[\"final30\"]:\n",
    "        ts = d[\"data\"][c][\"precip\"]\n",
    "        rainfall30yr[c] = {}\n",
    "        rainfall30yr[c][\"5day\"] = extractMA(ts, interval = 5)\n",
    "        rainfall30yr[c][\"10day\"] = extractMA(ts, interval = 10)\n",
    "        rainfall30yr[c][\"30day\"] = extractMA(ts, interval = 30)\n",
    "    \n",
    "    rainfall30[region] = rainfall30yr\n",
    "    \n",
    "rainfall50 = {}\n",
    "for region in data.keys():\n",
    "    rainfall30yr = {}\n",
    "    d = data[region]\n",
    "    for c in d[\"final50\"]:\n",
    "        ts = d[\"data\"][c][\"precip\"]\n",
    "        rainfall30yr[c] = {}\n",
    "        rainfall30yr[c][\"5day\"] = extractMA(ts, interval = 5, startYear=1963)\n",
    "        rainfall30yr[c][\"10day\"] = extractMA(ts, interval = 10, startYear=1963)\n",
    "        rainfall30yr[c][\"30day\"] = extractMA(ts, interval = 30, startYear=1963)\n",
    "    \n",
    "    rainfall50[region] = rainfall30yr"
   ]
  },
  {
   "cell_type": "markdown",
   "metadata": {},
   "source": [
    "#### Snowmelt"
   ]
  },
  {
   "cell_type": "code",
   "execution_count": null,
   "metadata": {},
   "outputs": [],
   "source": [
    "snow30 = {}\n",
    "for region in data.keys():\n",
    "    snow30yr = {}\n",
    "    d = data[region]\n",
    "    for c in d[\"final30\"]:\n",
    "        ts = d[\"data\"][c][\"snow\"]\n",
    "        snow30yr[c] = {}\n",
    "        snow30yr[c][\"5day\"] = extractMA(ts, interval = 5).qsw\n",
    "        snow30yr[c][\"10day\"] = extractMA(ts, interval = 10).qsw\n",
    "        snow30yr[c][\"30day\"] = extractMA(ts, interval = 30).qsw\n",
    "    \n",
    "    snow30[region] = snow30yr\n",
    "    \n",
    "snow50 = {}\n",
    "for region in data.keys():\n",
    "    snow30yr = {}\n",
    "    d = data[region]\n",
    "    for c in d[\"final50\"]:\n",
    "        ts = d[\"data\"][c][\"snow\"]\n",
    "        snow30yr[c] = {}\n",
    "        snow30yr[c][\"5day\"] = extractMA(ts, interval = 5, startYear=1963).qsw\n",
    "        snow30yr[c][\"10day\"] = extractMA(ts, interval = 10, startYear=1963).qsw\n",
    "        snow30yr[c][\"30day\"] = extractMA(ts, interval = 30, startYear=1963).qsw\n",
    "    \n",
    "    snow50[region] = snow30yr"
   ]
  },
  {
   "cell_type": "markdown",
   "metadata": {},
   "source": [
    "### Saving to file"
   ]
  },
  {
   "cell_type": "code",
   "execution_count": null,
   "metadata": {},
   "outputs": [],
   "source": [
    "saveDict(snow30,\"MA_snowmelt_30year\")\n",
    "saveDict(snow50,\"MA_snowmelt_50year\")\n",
    "saveDict(rainfall30,\"MA_rainfall_30year\")\n",
    "saveDict(rainfall50,\"MA_rainfall_50year\")\n",
    "saveDict(temp30,\"MA_temperature_30year\")\n",
    "saveDict(temp50,\"MA_temperature_50year\")\n",
    "saveDict(spesRunoff30,\"MA_streamflow_30year\")\n",
    "saveDict(spesRunoff50,\"MA_streamflow_50year\")"
   ]
  }
 ],
 "metadata": {
  "kernelspec": {
   "display_name": "Python 3",
   "language": "python",
   "name": "python3"
  },
  "language_info": {
   "codemirror_mode": {
    "name": "ipython",
    "version": 3
   },
   "file_extension": ".py",
   "mimetype": "text/x-python",
   "name": "python",
   "nbconvert_exporter": "python",
   "pygments_lexer": "ipython3",
   "version": "3.6.5"
  }
 },
 "nbformat": 4,
 "nbformat_minor": 2
}
